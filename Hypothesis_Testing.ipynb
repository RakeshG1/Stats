{
 "cells": [
  {
   "cell_type": "markdown",
   "metadata": {},
   "source": [
    "#### <span style='background:aqua'>General Business Scenario</span>\n",
    "* We are always asked to ‘summarize’ the huge amount of data we want to analyze in samples.\n",
    "* Once provided with samples, which can be arranged with different techniques, like Bootstrap sampling, the general purpose is making inferences on real parameters, belonging to the original populations, by computing so-called statistics or estimators from our sample.\n",
    "* However, we need some kind of ‘insurance’ that our estimates are close to the reality of facts. That’s why we use Hypothesis tests."
   ]
  },
  {
   "cell_type": "markdown",
   "metadata": {},
   "source": [
    "&nbsp;"
   ]
  },
  {
   "cell_type": "markdown",
   "metadata": {},
   "source": [
    "&nbsp;"
   ]
  },
  {
   "cell_type": "markdown",
   "metadata": {},
   "source": [
    "#### <span style='background:aqua'>Case Study</span>\n",
    "\n",
    "* Let us say that average marks in mathematics of class 8th students of ABC School is 85. On the other hand, if we randomly select 30 students and calculate their average score, their average comes to be 95. What can be concluded from this experiment? It’s simple. Here are the conclusions:\n",
    "\n",
    "* These 30 students are different from ABC School’s class 8th students, hence their average score is better i.e behavior of these randomly selected 30 students sample is different from the population (all ABC School’s class 8th students) or these are two different population.\n",
    "* There is no difference at all. The result is due to random chance only i.e. we found the average value of 85. It could have been higher / lower than 85 since there are students having average score less or more than 85.\n",
    "How should we decide which explanation is correct? There are various methods to help you to decide this. Here are some options:\n",
    "\n",
    "> * Increase sample size\n",
    "> * Test for another samples\n",
    "> * Calculate random chance probability\n",
    "* The first two methods require more time & budget. Hence, aren’t desirable when time or budget are constraints.\n",
    "\n",
    "* So, in such cases, a convenient method is to calculate the random chance probability for that sample i.e. what is the probability that sample would have average score of 95?. It will help you to draw a conclusion from the given two hypothesis given above."
   ]
  },
  {
   "cell_type": "markdown",
   "metadata": {},
   "source": [
    "&nbsp;"
   ]
  },
  {
   "cell_type": "markdown",
   "metadata": {},
   "source": [
    "&nbsp;"
   ]
  },
  {
   "cell_type": "markdown",
   "metadata": {},
   "source": [
    "#### <span style='background:aqua'>Now the question is, “How should we calculate the random chance probability?“.</span>\n",
    "To answer it, we should first review the basic understanding of statistics."
   ]
  },
  {
   "cell_type": "markdown",
   "metadata": {},
   "source": [
    "#### Basics of Statistics\n",
    "\n",
    "1. <b>Z-Value/ Table/ p value:</b> Z value is a measure of standard deviation i.e. how many standard deviation away from mean is the observed value. For example, the value of z value = +1.8 can be interpreted as the observed value is +1.8 standard deviations away from the mean. P-values are probabilities. Both these statistics terms are associated with the standard normal distribution. You can look at the p-values associated with each z-value in Z-table. Below is the formula to calculate z value: As I discussed, these methods always work with normal distribution (shown above) only, not with other distributions. In case, the population distribution is not normal, we’d resort to Central Limit Theorem.\n",
    "\n",
    "2. <b>Central Limit Theorem:</b> You can calculate the standard deviation and mean based on above findings and calculate z-score and p-value. Here random chance probability will help you to accept one of discussed conclusions from ABC School’s example (stated above). But, to satisfy the CLT theorem, sample size must be sufficient (>=30).\n",
    "\n",
    "3. <b>What is Significance Level:</b> We have taken an assumption that probability of sample mean 95 is 40%, which is high i.e. <span style='background:yellow'>more likely that we can say that there is a greater chance that this has occurred due to randomness and not due to behavior difference.</span> Had the probability been 7%, it would have been a no-brainer to infer that it is not due to randomness. There may be some behavior difference because probability is relatively low which means <span style='background:yellow'>high probability leads to acceptance of randomness and low probability leads to behavior difference.</span> There could be some business scenarios where 90% is considered to be high probability and in other scenarios could be 99%. In general, across all domains, cut off of 5% is accepted. This 5% is called Significance Level also known as alpha level (symbolized as α). <span style='background:yellow'>It means that if random chance probability is less than 5% then we can conclude that there is difference in behavior of two different population. (1- Significance level) is also known as Confidence Level i.e. we can say that I am 95% confident that it is not driven by randomness.</span>"
   ]
  },
  {
   "cell_type": "markdown",
   "metadata": {},
   "source": [
    "&nbsp;"
   ]
  },
  {
   "cell_type": "markdown",
   "metadata": {},
   "source": [
    "&nbsp;"
   ]
  },
  {
   "cell_type": "markdown",
   "metadata": {},
   "source": [
    "#### <span style='background:aqua'>What are the steps to perform Hypothesis Testing?</span>\n",
    "1. <b>Set up Hypothesis (NULL and Alternate):</b>  In ABC School example, we actually tested a hypothesis. <span style='background:yellow'>The hypothesis, we are testing was the difference between sample and population mean was due to a random chance. It is called as “NULL Hypothesis” i.e. there is no difference between sample and population.</span> The symbol for the null hypothesis is ‘H0’. Keep in mind that, <span style='background:yellow'>the only reason we are testing the null hypothesis is because we think it is wrong. We state what we think is wrong about the null hypothesis in an Alternative Hypothesis. For the ABC School example, alternate hypothesis is, there is a significant difference in behavior of sample and population. </span>.\n",
    "    \n",
    "2. <b>Set the Criteria for  decision:</b> To set the criteria for a decision, we state the level of significance for a test. It could 5%, 1% or 0.5%. Based on the level of significance, we make a decision to accept the Null or Alternate hypothesis.\n",
    "\n",
    "3. <b>Compute the random chance of probability:</b><span style='background:yellow'> Random chance probability(P value) or (Z/T) Test statistic helps to determine the likelihood. Higher probability has higher likelihood and enough evidence to accept the Null hypothesis.</span>\n",
    "\n",
    "4. Make Decision: Here, we compare p value with predefined significance level and if it is less than significance level, we reject Null hypothesis else we accept it. While making a decision to retain or reject the null hypothesis, we might go wrong because we are observing a sample and not an entire population. There are four decision alternatives regarding the truth and falsity of the decision we make about a null hypothesis:\n",
    "> 1. The decision to retain the null hypothesis could be correct.\n",
    "> 2. The decision to retain the null hypothesis could be incorrect, it is know as Type II error.\n",
    "> 3. The decision to reject the null hypothesis could be correct.\n",
    "> 4. The decision to reject the null hypothesis could be incorrect, it is known as Type I error."
   ]
  },
  {
   "cell_type": "markdown",
   "metadata": {},
   "source": [
    "&nbsp;"
   ]
  },
  {
   "cell_type": "markdown",
   "metadata": {},
   "source": [
    "&nbsp;"
   ]
  },
  {
   "cell_type": "markdown",
   "metadata": {},
   "source": [
    "#### <span style='background:aqua'>Types of Hypothesis Test :</span>\n",
    "* One-Sample Z-Test(one/two tailed test)\n",
    "* Two-Sample Z-Test(one/two tailed test)\n",
    "* One-Sample T-Test(one/two tailed test)\n",
    "* Two-Sample T-Test(one/two tailed test)\n",
    "* Analysis of Variance (ANOVA)\n",
    "* Chi-Square Test for Goodness of Fit\n",
    "* Chi-Square Test for Independence"
   ]
  },
  {
   "cell_type": "markdown",
   "metadata": {},
   "source": [
    "&nbsp;"
   ]
  },
  {
   "cell_type": "markdown",
   "metadata": {},
   "source": [
    "&nbsp;"
   ]
  },
  {
   "cell_type": "markdown",
   "metadata": {},
   "source": [
    "#### <span style='background:aqua'>When to use one/two tailed test :</span>\n",
    "> * <b>One-tailed test</b> : if you want to see if Group A scored higher or lower than Group B, then you would want to use a two-tailed test. This is because a two-tailed test uses both the positive and negative tails of the distribution. i.e., we uses p_value=0.025(2.5%) on either side of tails, becuase population and sample mean difference can be on any tail.\n",
    "> * <b>Two-tailed test</b> : A one-tailed test is appropriate if you only want to determine if there is a difference between groups in a specific direction. So, if you are only interested in determining if Group A scored higher than Group B, and you are completely uninterested in possibility of Group A scoring lower than Group B, then you may want to use a one-tailed test. i.e.,\n",
    ">> * we uses p_value=0.05(5%) on left side of tail for left tailed test, if population and sample mean difference is negative(z_value < 0).\n",
    ">> * we uses p_value=0.05(5%) on right side of tail for right tailed test, if population and sample mean difference is positive(z_value > 0)."
   ]
  },
  {
   "cell_type": "markdown",
   "metadata": {},
   "source": [
    "&nbsp;"
   ]
  },
  {
   "cell_type": "markdown",
   "metadata": {},
   "source": [
    "&nbsp;"
   ]
  },
  {
   "cell_type": "markdown",
   "metadata": {},
   "source": [
    "#### <span style='background:aqua'><b>Example(one/right tailed test) : 1</b></span>\n",
    "* Blood glucose levels for obese patients have a mean of 100 with a standard deviation of 15. A researcher thinks that a diet high in raw cornstarch will have a positive effect on blood glucose levels. A sample of 36 patients who have tried the raw cornstarch diet have a mean glucose level of 108. Test the hypothesis that the raw cornstarch had an effect or not.\n",
    "\n",
    "\n",
    "* <b>Solution:-</b> Follow the above discussed steps to test this hypothesis:\n",
    "\n",
    "* Step-1: State the hypotheses. The population mean is 100. we want to check here whether sample mean is going to greater than population mean 558.\n",
    "\n",
    "> * H0: μ = 100\n",
    "> * H1: μ > 100 \n",
    "\n",
    "* Step-2: Set up the significance level. It is not given in the problem so let’s assume it as 5% (0.05).\n",
    "\n",
    "* Step-3: Compute the random chance probability using z score and z-table.\n",
    "\n",
    "> * z = (x - Mu) / sigma\n",
    "> * Mu = mean\n",
    "> * sigma = standard deviation\n",
    "> * For this set of data: z= (108-100) / (15/√36)=3.20\n",
    "\n",
    "* <b>Explanation :</b>\n",
    "\n",
    "> * Here, we are specifically checking alternative hypothesis that is sample mean greater than population mean, as observed value (108) is > 100, thats why z value is postive(3.20). So for probability value of this Z value for 5% significance level we check on postive z table.\n",
    "> * Accepting or rejecting null hypothesis using significance level - probability value :\n",
    "p_value for Z(3.20) = .9993 i.e., probability position of our mean difference(b/n pop & sample) in populationn probability distribution. (Note: check for 3.2 on y axis and 0.0 on x axis then u will see .9993 value in postive z table).\n",
    "Remaining probability(i.e., probability left after our probability position in population probablity distribution) value on probability distribution is = 1-.9993 => .0007 <span style='background:yellow'>(i.e., observed z_statistic probability value(.0007) < 0.05 means it is in right critical tail region, so rejecting null hypothesis).</span> \n",
    "> * Accepting or rejecting null hypothesis based on significance level - Z critical value) :\n",
    "A Z_score value is called as critical value which is Z_score value at critical region.i.e.,for 0.05 significance level critical value is (Z-score @0.05 = 1.96). If population and sample mean difference is > Z_critical value then we reject null hypothesis. As the mean difference going into critical region(or) less probability region. <span style='background:yellow'>(i.e., observed z_statistic (3.20) > 1.96 critical value, means it is in right critical tail region, so rejecting null hypothesis).</span>\n",
    "> * So we are rejecting null hypothesis. Because assuming null hypothesis true(difference between 100 and 108 mostly equal), but we are getting less probability for this means this is very rare situation to happen, so there is actual difference exist between pop & sample mean (or) in another definition it is less random chance probability for this differene during sample selection, that means actually there is difference between them.\n",
    "\n",
    "* <b>Result :</b>\n",
    "> * Rejecting null hypothesis. "
   ]
  },
  {
   "cell_type": "markdown",
   "metadata": {},
   "source": [
    "&nbsp;"
   ]
  },
  {
   "cell_type": "markdown",
   "metadata": {},
   "source": [
    "#### <span style='background:aqua'><b>Example(two tailed test): 2</b></span>\n",
    "* Templer and Tomeo (2002) reported that the population mean score on the quantitative portion of the Graduate Record Examination (GRE) General Test for students taking the exam between 1994 and 1997 was 558 ± 139 (μ ± σ). Suppose we select a sample of 100 participants (n = 100). We record a sample mean equal to 585 (M = 585). Compute the p-value t0 check whether or not we will retain the null hypothesis (μ = 558) at 0.05 level of significance (α = .05).\n",
    "\n",
    "* <b>Solution:-</b> Follow the above discussed steps to test this hypothesis:\n",
    "\n",
    "* Step-1: State the hypotheses. The population mean is 558. we want to check here whether sample mean is going to equal or not to population mean 558.\n",
    "\n",
    "> * H0: μ = 558\n",
    "> * H1: μ != 558(two tailed test) \n",
    "\n",
    "* Step-2: Set up the significance level. As stated in the question, it as 5% (0.05). In a non-directional two-tailed test, we divide the alpha value in half so that an equal proportion of area is placed in the upper and lower tail. So, the significance level on either side is calculated as: α/2 = 0.025. and z score associated with this (1-0.025=0.975, this is  probability postion according to significance level α/2=0.025, & checking z score critical value at that position) is 1.96. As this is a two-tailed test, z-score(observed) which is less than -1.96 or greater than 1.96 is a evidence to reject the Null hypothesis.\n",
    "\n",
    "* Step-3: Compute the random chance probability using z score and z-table.\n",
    "\n",
    "> * z = (x - Mu) / sigma\n",
    "> * Mu = mean\n",
    "> * sigma = standard deviation\n",
    "> * For this set of data: z= (585-558) / (139/√100) = 1.94\n",
    "\n",
    "* <b>Explanation :</b>\n",
    "\n",
    "> * Here, we are specifically checking alternative hypothesis that is sample mean not equal to population mean, as observed value (585 != 558), So, the significance level on either side is calculated as: α/2 = 0.025.\n",
    "\n",
    "> * Accepting or rejecting null hypothesis using significance level - probability value :\n",
    "p_value for Z(1.94) = 0.9738 i.e., probability position of our mean difference(b/n pop & sample) in populationn probability distribution. (Note: check for 1.9 on y axis and 0.04 on x axis then u will see 0.9738 value in postive z table). Remaining probability(i.e., probability left after our probability position in population probablity distribution) value on probability distribution is = (1-0.9738) => 0.03 <span style='background:yellow'>(i.e., observed z_statistic probability value(0.03) > 0.025 means it is not in right critical tail region, it is before right critical region, so not rejecting null hypothesis).</span> \n",
    "> * Accepting or rejecting null hypothesis based on significance level - Z critical value range) :\n",
    "A Z_score value is called as critical value range which is Z_score range value at critical region.i.e.,for +-0.025 significance level critical value is (Z-score @+-0.025 = (-1.96,+1.96). If population and sample mean difference is beyond Z_critical value range then we reject null hypothesis. As the mean difference going into critical region(or) less probability region. <span style='background:yellow'>(i.e., observed z_statistic (1.94) is between (-1.96,1.96) critical value range, means it is not in right critical tail region, so not rejecting null hypothesis)</span>\n",
    "> * So we are not rejecting null hypothesis. Because assuming null hypothesis true(difference between 558 and 585 mostly equal), but we are getting little high probability for this means this is common situation to happen, so there is no actual difference exist between pop & sample mean (or) in another definition it is little high random chance probability for this differene during sample selection, that means actually there is no difference between them.\n",
    "\n",
    "* <b>Result :</b>\n",
    "> * Accepting null hypothesis."
   ]
  },
  {
   "cell_type": "markdown",
   "metadata": {},
   "source": [
    "&nbsp;"
   ]
  },
  {
   "cell_type": "markdown",
   "metadata": {},
   "source": [
    "&nbsp;"
   ]
  },
  {
   "cell_type": "markdown",
   "metadata": {},
   "source": [
    "#### <span style='background:aqua'><b>Key Note:</b><span>"
   ]
  },
  {
   "cell_type": "markdown",
   "metadata": {},
   "source": [
    "* Formual for getting probability value for particular data point in population probability distribution. Is below:-\n",
    "> * print(((1/(sigma * np.sqrt(2 * np.pi))) * (np.exp( - (3 - mu)**2 / (2 * sigma**2)))),'\\n')\n",
    "* Formual for getting Z-score value for particular data point in population probability distribution. Is below:-\n",
    "> * sample_mean = 3\n",
    "> * z_score=(sample_mean-mu)/sigma\n",
    "> * print(z_score)"
   ]
  }
 ],
 "metadata": {
  "kernelspec": {
   "display_name": "Python 3",
   "language": "python",
   "name": "python3"
  },
  "language_info": {
   "codemirror_mode": {
    "name": "ipython",
    "version": 3
   },
   "file_extension": ".py",
   "mimetype": "text/x-python",
   "name": "python",
   "nbconvert_exporter": "python",
   "pygments_lexer": "ipython3",
   "version": "3.7.4"
  }
 },
 "nbformat": 4,
 "nbformat_minor": 4
}
